{
  "nbformat": 4,
  "nbformat_minor": 0,
  "metadata": {
    "colab": {
      "name": "NYCC_NEW",
      "provenance": [],
      "collapsed_sections": [],
      "toc_visible": true
    },
    "kernelspec": {
      "name": "python3",
      "display_name": "Python 3"
    }
  },
  "cells": [
    {
      "cell_type": "code",
      "metadata": {
        "id": "Danr1BvUHT3t",
        "colab_type": "code",
        "colab": {}
      },
      "source": [
        "# IMPORT GENERIC PACKAGES\n",
        "import numpy as np # numerical calc package\n",
        "import pandas as pd # holds data\n",
        "import matplotlib.pyplot as plt # plotting library\n",
        "import seaborn as sns # pretty plotting\n",
        "\n",
        "# plotting config\n",
        "sns.set(style='white', rc={'figure.figsize':(20,10)})\n",
        "\n",
        "from sklearn.linear_model import LinearRegression # linear regression package\n",
        "from sklearn.model_selection import train_test_split # split dataset\n",
        "from sklearn.metrics import mean_squared_error as mse # Measurement metric\n",
        "\n",
        "from sklearn.ensemble import RandomForestRegressor\n",
        "from sklearn.datasets import make_regression"
      ],
      "execution_count": 0,
      "outputs": []
    },
    {
      "cell_type": "code",
      "metadata": {
        "id": "k_EtjF0DHw5k",
        "colab_type": "code",
        "colab": {}
      },
      "source": [
        "# read data into a DataFrame\n",
        "data = pd.read_csv('nyc-rolling-sales.csv', index_col=0)"
      ],
      "execution_count": 0,
      "outputs": []
    },
    {
      "cell_type": "code",
      "metadata": {
        "id": "oE_Xpr7Xue1k",
        "colab_type": "code",
        "outputId": "481dd3a1-8d74-496c-8d0d-27afc76b85b3",
        "colab": {
          "base_uri": "https://localhost:8080/",
          "height": 547
        }
      },
      "source": [
        "data.head()"
      ],
      "execution_count": 0,
      "outputs": [
        {
          "output_type": "execute_result",
          "data": {
            "text/html": [
              "<div>\n",
              "<style scoped>\n",
              "    .dataframe tbody tr th:only-of-type {\n",
              "        vertical-align: middle;\n",
              "    }\n",
              "\n",
              "    .dataframe tbody tr th {\n",
              "        vertical-align: top;\n",
              "    }\n",
              "\n",
              "    .dataframe thead th {\n",
              "        text-align: right;\n",
              "    }\n",
              "</style>\n",
              "<table border=\"1\" class=\"dataframe\">\n",
              "  <thead>\n",
              "    <tr style=\"text-align: right;\">\n",
              "      <th></th>\n",
              "      <th>BOROUGH</th>\n",
              "      <th>NEIGHBORHOOD</th>\n",
              "      <th>BUILDING CLASS CATEGORY</th>\n",
              "      <th>TAX CLASS AT PRESENT</th>\n",
              "      <th>BLOCK</th>\n",
              "      <th>LOT</th>\n",
              "      <th>EASE-MENT</th>\n",
              "      <th>BUILDING CLASS AT PRESENT</th>\n",
              "      <th>ADDRESS</th>\n",
              "      <th>APARTMENT NUMBER</th>\n",
              "      <th>ZIP CODE</th>\n",
              "      <th>RESIDENTIAL UNITS</th>\n",
              "      <th>COMMERCIAL UNITS</th>\n",
              "      <th>TOTAL UNITS</th>\n",
              "      <th>LAND SQUARE FEET</th>\n",
              "      <th>GROSS SQUARE FEET</th>\n",
              "      <th>YEAR BUILT</th>\n",
              "      <th>TAX CLASS AT TIME OF SALE</th>\n",
              "      <th>BUILDING CLASS AT TIME OF SALE</th>\n",
              "      <th>SALE PRICE</th>\n",
              "      <th>SALE DATE</th>\n",
              "    </tr>\n",
              "  </thead>\n",
              "  <tbody>\n",
              "    <tr>\n",
              "      <th>4</th>\n",
              "      <td>1</td>\n",
              "      <td>ALPHABET CITY</td>\n",
              "      <td>07 RENTALS - WALKUP APARTMENTS</td>\n",
              "      <td>2A</td>\n",
              "      <td>392</td>\n",
              "      <td>6</td>\n",
              "      <td></td>\n",
              "      <td>C2</td>\n",
              "      <td>153 AVENUE B</td>\n",
              "      <td></td>\n",
              "      <td>10009</td>\n",
              "      <td>5</td>\n",
              "      <td>0</td>\n",
              "      <td>5</td>\n",
              "      <td>1633</td>\n",
              "      <td>6440</td>\n",
              "      <td>1900</td>\n",
              "      <td>2</td>\n",
              "      <td>C2</td>\n",
              "      <td>6625000</td>\n",
              "      <td>2017-07-19 00:00:00</td>\n",
              "    </tr>\n",
              "    <tr>\n",
              "      <th>5</th>\n",
              "      <td>1</td>\n",
              "      <td>ALPHABET CITY</td>\n",
              "      <td>07 RENTALS - WALKUP APARTMENTS</td>\n",
              "      <td>2</td>\n",
              "      <td>399</td>\n",
              "      <td>26</td>\n",
              "      <td></td>\n",
              "      <td>C7</td>\n",
              "      <td>234 EAST 4TH   STREET</td>\n",
              "      <td></td>\n",
              "      <td>10009</td>\n",
              "      <td>28</td>\n",
              "      <td>3</td>\n",
              "      <td>31</td>\n",
              "      <td>4616</td>\n",
              "      <td>18690</td>\n",
              "      <td>1900</td>\n",
              "      <td>2</td>\n",
              "      <td>C7</td>\n",
              "      <td>-</td>\n",
              "      <td>2016-12-14 00:00:00</td>\n",
              "    </tr>\n",
              "    <tr>\n",
              "      <th>6</th>\n",
              "      <td>1</td>\n",
              "      <td>ALPHABET CITY</td>\n",
              "      <td>07 RENTALS - WALKUP APARTMENTS</td>\n",
              "      <td>2</td>\n",
              "      <td>399</td>\n",
              "      <td>39</td>\n",
              "      <td></td>\n",
              "      <td>C7</td>\n",
              "      <td>197 EAST 3RD   STREET</td>\n",
              "      <td></td>\n",
              "      <td>10009</td>\n",
              "      <td>16</td>\n",
              "      <td>1</td>\n",
              "      <td>17</td>\n",
              "      <td>2212</td>\n",
              "      <td>7803</td>\n",
              "      <td>1900</td>\n",
              "      <td>2</td>\n",
              "      <td>C7</td>\n",
              "      <td>-</td>\n",
              "      <td>2016-12-09 00:00:00</td>\n",
              "    </tr>\n",
              "    <tr>\n",
              "      <th>7</th>\n",
              "      <td>1</td>\n",
              "      <td>ALPHABET CITY</td>\n",
              "      <td>07 RENTALS - WALKUP APARTMENTS</td>\n",
              "      <td>2B</td>\n",
              "      <td>402</td>\n",
              "      <td>21</td>\n",
              "      <td></td>\n",
              "      <td>C4</td>\n",
              "      <td>154 EAST 7TH STREET</td>\n",
              "      <td></td>\n",
              "      <td>10009</td>\n",
              "      <td>10</td>\n",
              "      <td>0</td>\n",
              "      <td>10</td>\n",
              "      <td>2272</td>\n",
              "      <td>6794</td>\n",
              "      <td>1913</td>\n",
              "      <td>2</td>\n",
              "      <td>C4</td>\n",
              "      <td>3936272</td>\n",
              "      <td>2016-09-23 00:00:00</td>\n",
              "    </tr>\n",
              "    <tr>\n",
              "      <th>8</th>\n",
              "      <td>1</td>\n",
              "      <td>ALPHABET CITY</td>\n",
              "      <td>07 RENTALS - WALKUP APARTMENTS</td>\n",
              "      <td>2A</td>\n",
              "      <td>404</td>\n",
              "      <td>55</td>\n",
              "      <td></td>\n",
              "      <td>C2</td>\n",
              "      <td>301 EAST 10TH   STREET</td>\n",
              "      <td></td>\n",
              "      <td>10009</td>\n",
              "      <td>6</td>\n",
              "      <td>0</td>\n",
              "      <td>6</td>\n",
              "      <td>2369</td>\n",
              "      <td>4615</td>\n",
              "      <td>1900</td>\n",
              "      <td>2</td>\n",
              "      <td>C2</td>\n",
              "      <td>8000000</td>\n",
              "      <td>2016-11-17 00:00:00</td>\n",
              "    </tr>\n",
              "  </tbody>\n",
              "</table>\n",
              "</div>"
            ],
            "text/plain": [
              "   BOROUGH   NEIGHBORHOOD  ... SALE PRICE            SALE DATE\n",
              "4        1  ALPHABET CITY  ...    6625000  2017-07-19 00:00:00\n",
              "5        1  ALPHABET CITY  ...        -    2016-12-14 00:00:00\n",
              "6        1  ALPHABET CITY  ...        -    2016-12-09 00:00:00\n",
              "7        1  ALPHABET CITY  ...    3936272  2016-09-23 00:00:00\n",
              "8        1  ALPHABET CITY  ...    8000000  2016-11-17 00:00:00\n",
              "\n",
              "[5 rows x 21 columns]"
            ]
          },
          "metadata": {
            "tags": []
          },
          "execution_count": 296
        }
      ]
    },
    {
      "cell_type": "code",
      "metadata": {
        "id": "mB2UXxyUo6cR",
        "colab_type": "code",
        "outputId": "efb88184-682a-4626-a072-a3d3014d4c10",
        "colab": {
          "base_uri": "https://localhost:8080/",
          "height": 153
        }
      },
      "source": [
        "data.columns"
      ],
      "execution_count": 0,
      "outputs": [
        {
          "output_type": "execute_result",
          "data": {
            "text/plain": [
              "Index(['BOROUGH', 'NEIGHBORHOOD', 'BUILDING CLASS CATEGORY',\n",
              "       'TAX CLASS AT PRESENT', 'BLOCK', 'LOT', 'EASE-MENT',\n",
              "       'BUILDING CLASS AT PRESENT', 'ADDRESS', 'APARTMENT NUMBER', 'ZIP CODE',\n",
              "       'RESIDENTIAL UNITS', 'COMMERCIAL UNITS', 'TOTAL UNITS',\n",
              "       'LAND SQUARE FEET', 'GROSS SQUARE FEET', 'YEAR BUILT',\n",
              "       'TAX CLASS AT TIME OF SALE', 'BUILDING CLASS AT TIME OF SALE',\n",
              "       'SALE PRICE', 'SALE DATE'],\n",
              "      dtype='object')"
            ]
          },
          "metadata": {
            "tags": []
          },
          "execution_count": 297
        }
      ]
    },
    {
      "cell_type": "code",
      "metadata": {
        "id": "z4bbteJXO0JL",
        "colab_type": "code",
        "colab": {}
      },
      "source": [
        "# take a subset of our data\n",
        "columns = [ 'BOROUGH', 'SALE PRICE','COMMERCIAL UNITS','LAND SQUARE FEET', 'GROSS SQUARE FEET' ]\n",
        "subset_data = data[columns]"
      ],
      "execution_count": 0,
      "outputs": []
    },
    {
      "cell_type": "code",
      "metadata": {
        "id": "jmPejNuYRGqQ",
        "colab_type": "code",
        "outputId": "ea020686-524c-4b81-989b-1b99f07b006e",
        "colab": {
          "base_uri": "https://localhost:8080/",
          "height": 34
        }
      },
      "source": [
        "# Get number of (rows, columns)\n",
        "subset_data.shape"
      ],
      "execution_count": 0,
      "outputs": [
        {
          "output_type": "execute_result",
          "data": {
            "text/plain": [
              "(84548, 5)"
            ]
          },
          "metadata": {
            "tags": []
          },
          "execution_count": 299
        }
      ]
    },
    {
      "cell_type": "code",
      "metadata": {
        "id": "w-EVPElRPfVK",
        "colab_type": "code",
        "outputId": "9f6dae0b-bc91-43b6-8921-23eef217fdea",
        "colab": {
          "base_uri": "https://localhost:8080/",
          "height": 204
        }
      },
      "source": [
        "# Get first 5 rows\n",
        "subset_data.head()"
      ],
      "execution_count": 0,
      "outputs": [
        {
          "output_type": "execute_result",
          "data": {
            "text/html": [
              "<div>\n",
              "<style scoped>\n",
              "    .dataframe tbody tr th:only-of-type {\n",
              "        vertical-align: middle;\n",
              "    }\n",
              "\n",
              "    .dataframe tbody tr th {\n",
              "        vertical-align: top;\n",
              "    }\n",
              "\n",
              "    .dataframe thead th {\n",
              "        text-align: right;\n",
              "    }\n",
              "</style>\n",
              "<table border=\"1\" class=\"dataframe\">\n",
              "  <thead>\n",
              "    <tr style=\"text-align: right;\">\n",
              "      <th></th>\n",
              "      <th>BOROUGH</th>\n",
              "      <th>SALE PRICE</th>\n",
              "      <th>COMMERCIAL UNITS</th>\n",
              "      <th>LAND SQUARE FEET</th>\n",
              "      <th>GROSS SQUARE FEET</th>\n",
              "    </tr>\n",
              "  </thead>\n",
              "  <tbody>\n",
              "    <tr>\n",
              "      <th>4</th>\n",
              "      <td>1</td>\n",
              "      <td>6625000</td>\n",
              "      <td>0</td>\n",
              "      <td>1633</td>\n",
              "      <td>6440</td>\n",
              "    </tr>\n",
              "    <tr>\n",
              "      <th>5</th>\n",
              "      <td>1</td>\n",
              "      <td>-</td>\n",
              "      <td>3</td>\n",
              "      <td>4616</td>\n",
              "      <td>18690</td>\n",
              "    </tr>\n",
              "    <tr>\n",
              "      <th>6</th>\n",
              "      <td>1</td>\n",
              "      <td>-</td>\n",
              "      <td>1</td>\n",
              "      <td>2212</td>\n",
              "      <td>7803</td>\n",
              "    </tr>\n",
              "    <tr>\n",
              "      <th>7</th>\n",
              "      <td>1</td>\n",
              "      <td>3936272</td>\n",
              "      <td>0</td>\n",
              "      <td>2272</td>\n",
              "      <td>6794</td>\n",
              "    </tr>\n",
              "    <tr>\n",
              "      <th>8</th>\n",
              "      <td>1</td>\n",
              "      <td>8000000</td>\n",
              "      <td>0</td>\n",
              "      <td>2369</td>\n",
              "      <td>4615</td>\n",
              "    </tr>\n",
              "  </tbody>\n",
              "</table>\n",
              "</div>"
            ],
            "text/plain": [
              "   BOROUGH SALE PRICE  COMMERCIAL UNITS LAND SQUARE FEET GROSS SQUARE FEET\n",
              "4        1    6625000                 0             1633              6440\n",
              "5        1        -                   3             4616             18690\n",
              "6        1        -                   1             2212              7803\n",
              "7        1    3936272                 0             2272              6794\n",
              "8        1    8000000                 0             2369              4615"
            ]
          },
          "metadata": {
            "tags": []
          },
          "execution_count": 300
        }
      ]
    },
    {
      "cell_type": "code",
      "metadata": {
        "id": "Igkq-R3Nujds",
        "colab_type": "code",
        "colab": {}
      },
      "source": [
        "# Convert to float\n",
        "data['SALE PRICE'] = pd.to_numeric(data['SALE PRICE'], errors='coerce')\n",
        "data['SALE PRICE'] = data['SALE PRICE'].fillna(0)\n",
        "\n",
        "data['GROSS SQUARE FEET'] = pd.to_numeric(data['GROSS SQUARE FEET'], errors='coerce')\n",
        "data['LAND SQUARE FEET'] = pd.to_numeric(data['LAND SQUARE FEET'], errors='coerce')\n",
        "\n",
        "# Convert to date\n",
        "data['SALE DATE'] = pd.to_datetime(data['SALE DATE'], errors='coerce')\n",
        "\n",
        "\n",
        "# Remove 5th and 95th percentile tails\n",
        "zero = 0\n",
        "fifth = data['SALE PRICE'].describe(np.arange(0.05, 1, 0.05)).T['15%']\n",
        "ninetyfifth = data['SALE PRICE'].describe(np.arange(0.05, 1, 0.05)).T['95%']\n",
        "data = data[(data['SALE PRICE'] > zero) &\n",
        "             (data['SALE PRICE'] <= ninetyfifth)].copy()\n",
        "\n",
        "# Handle Missing Values by Dropping (for now)\n",
        "data.dropna(inplace=True)\n"
      ],
      "execution_count": 0,
      "outputs": []
    },
    {
      "cell_type": "code",
      "metadata": {
        "id": "XHvwsWqnymY7",
        "colab_type": "code",
        "outputId": "a2b6127c-62e0-489c-8b1a-b4decd6e8bb5",
        "colab": {
          "base_uri": "https://localhost:8080/",
          "height": 351
        }
      },
      "source": [
        "data.describe()"
      ],
      "execution_count": 0,
      "outputs": [
        {
          "output_type": "execute_result",
          "data": {
            "text/html": [
              "<div>\n",
              "<style scoped>\n",
              "    .dataframe tbody tr th:only-of-type {\n",
              "        vertical-align: middle;\n",
              "    }\n",
              "\n",
              "    .dataframe tbody tr th {\n",
              "        vertical-align: top;\n",
              "    }\n",
              "\n",
              "    .dataframe thead th {\n",
              "        text-align: right;\n",
              "    }\n",
              "</style>\n",
              "<table border=\"1\" class=\"dataframe\">\n",
              "  <thead>\n",
              "    <tr style=\"text-align: right;\">\n",
              "      <th></th>\n",
              "      <th>BOROUGH</th>\n",
              "      <th>BLOCK</th>\n",
              "      <th>LOT</th>\n",
              "      <th>ZIP CODE</th>\n",
              "      <th>RESIDENTIAL UNITS</th>\n",
              "      <th>COMMERCIAL UNITS</th>\n",
              "      <th>TOTAL UNITS</th>\n",
              "      <th>LAND SQUARE FEET</th>\n",
              "      <th>GROSS SQUARE FEET</th>\n",
              "      <th>YEAR BUILT</th>\n",
              "      <th>TAX CLASS AT TIME OF SALE</th>\n",
              "      <th>SALE PRICE</th>\n",
              "    </tr>\n",
              "  </thead>\n",
              "  <tbody>\n",
              "    <tr>\n",
              "      <th>count</th>\n",
              "      <td>36128.000000</td>\n",
              "      <td>36128.000000</td>\n",
              "      <td>36128.000000</td>\n",
              "      <td>36128.000000</td>\n",
              "      <td>36128.000000</td>\n",
              "      <td>36128.000000</td>\n",
              "      <td>36128.000000</td>\n",
              "      <td>3.612800e+04</td>\n",
              "      <td>3.612800e+04</td>\n",
              "      <td>36128.000000</td>\n",
              "      <td>36128.000000</td>\n",
              "      <td>3.612800e+04</td>\n",
              "    </tr>\n",
              "    <tr>\n",
              "      <th>mean</th>\n",
              "      <td>3.424297</td>\n",
              "      <td>5284.633110</td>\n",
              "      <td>227.366364</td>\n",
              "      <td>10952.996097</td>\n",
              "      <td>1.735662</td>\n",
              "      <td>0.145649</td>\n",
              "      <td>1.887705</td>\n",
              "      <td>2.897620e+03</td>\n",
              "      <td>2.278095e+03</td>\n",
              "      <td>1850.794481</td>\n",
              "      <td>1.357424</td>\n",
              "      <td>6.942168e+05</td>\n",
              "    </tr>\n",
              "    <tr>\n",
              "      <th>std</th>\n",
              "      <td>0.924368</td>\n",
              "      <td>3625.421333</td>\n",
              "      <td>485.371196</td>\n",
              "      <td>1018.325400</td>\n",
              "      <td>11.859228</td>\n",
              "      <td>11.924159</td>\n",
              "      <td>16.893532</td>\n",
              "      <td>2.939887e+04</td>\n",
              "      <td>2.282113e+04</td>\n",
              "      <td>422.482484</td>\n",
              "      <td>0.677031</td>\n",
              "      <td>5.083709e+05</td>\n",
              "    </tr>\n",
              "    <tr>\n",
              "      <th>min</th>\n",
              "      <td>1.000000</td>\n",
              "      <td>1.000000</td>\n",
              "      <td>1.000000</td>\n",
              "      <td>0.000000</td>\n",
              "      <td>0.000000</td>\n",
              "      <td>0.000000</td>\n",
              "      <td>0.000000</td>\n",
              "      <td>0.000000e+00</td>\n",
              "      <td>0.000000e+00</td>\n",
              "      <td>0.000000</td>\n",
              "      <td>1.000000</td>\n",
              "      <td>1.000000e+00</td>\n",
              "    </tr>\n",
              "    <tr>\n",
              "      <th>25%</th>\n",
              "      <td>3.000000</td>\n",
              "      <td>2376.000000</td>\n",
              "      <td>21.000000</td>\n",
              "      <td>10467.000000</td>\n",
              "      <td>1.000000</td>\n",
              "      <td>0.000000</td>\n",
              "      <td>1.000000</td>\n",
              "      <td>1.317000e+03</td>\n",
              "      <td>8.280000e+02</td>\n",
              "      <td>1920.000000</td>\n",
              "      <td>1.000000</td>\n",
              "      <td>3.750000e+05</td>\n",
              "    </tr>\n",
              "    <tr>\n",
              "      <th>50%</th>\n",
              "      <td>3.000000</td>\n",
              "      <td>4832.000000</td>\n",
              "      <td>45.000000</td>\n",
              "      <td>11219.000000</td>\n",
              "      <td>1.000000</td>\n",
              "      <td>0.000000</td>\n",
              "      <td>1.000000</td>\n",
              "      <td>2.175000e+03</td>\n",
              "      <td>1.505000e+03</td>\n",
              "      <td>1935.000000</td>\n",
              "      <td>1.000000</td>\n",
              "      <td>5.790000e+05</td>\n",
              "    </tr>\n",
              "    <tr>\n",
              "      <th>75%</th>\n",
              "      <td>4.000000</td>\n",
              "      <td>7380.000000</td>\n",
              "      <td>96.000000</td>\n",
              "      <td>11361.000000</td>\n",
              "      <td>2.000000</td>\n",
              "      <td>0.000000</td>\n",
              "      <td>2.000000</td>\n",
              "      <td>3.125000e+03</td>\n",
              "      <td>2.232000e+03</td>\n",
              "      <td>1963.000000</td>\n",
              "      <td>2.000000</td>\n",
              "      <td>8.800000e+05</td>\n",
              "    </tr>\n",
              "    <tr>\n",
              "      <th>max</th>\n",
              "      <td>5.000000</td>\n",
              "      <td>16319.000000</td>\n",
              "      <td>7501.000000</td>\n",
              "      <td>11694.000000</td>\n",
              "      <td>1844.000000</td>\n",
              "      <td>2261.000000</td>\n",
              "      <td>2261.000000</td>\n",
              "      <td>4.228300e+06</td>\n",
              "      <td>3.750565e+06</td>\n",
              "      <td>2017.000000</td>\n",
              "      <td>4.000000</td>\n",
              "      <td>3.000000e+06</td>\n",
              "    </tr>\n",
              "  </tbody>\n",
              "</table>\n",
              "</div>"
            ],
            "text/plain": [
              "            BOROUGH         BLOCK  ...  TAX CLASS AT TIME OF SALE    SALE PRICE\n",
              "count  36128.000000  36128.000000  ...               36128.000000  3.612800e+04\n",
              "mean       3.424297   5284.633110  ...                   1.357424  6.942168e+05\n",
              "std        0.924368   3625.421333  ...                   0.677031  5.083709e+05\n",
              "min        1.000000      1.000000  ...                   1.000000  1.000000e+00\n",
              "25%        3.000000   2376.000000  ...                   1.000000  3.750000e+05\n",
              "50%        3.000000   4832.000000  ...                   1.000000  5.790000e+05\n",
              "75%        4.000000   7380.000000  ...                   2.000000  8.800000e+05\n",
              "max        5.000000  16319.000000  ...                   4.000000  3.000000e+06\n",
              "\n",
              "[8 rows x 12 columns]"
            ]
          },
          "metadata": {
            "tags": []
          },
          "execution_count": 302
        }
      ]
    },
    {
      "cell_type": "code",
      "metadata": {
        "id": "tzIOcaEpJM2a",
        "colab_type": "code",
        "colab": {}
      },
      "source": [
        "# Define Features\n",
        "features = ['BOROUGH', 'COMMERCIAL UNITS','LAND SQUARE FEET','GROSS SQUARE FEET','RESIDENTIAL UNITS','LOT', 'BLOCK', 'ZIP CODE' ]\n",
        "\n",
        "# Set X\n",
        "X = data[features]"
      ],
      "execution_count": 0,
      "outputs": []
    },
    {
      "cell_type": "code",
      "metadata": {
        "id": "o4K9QmhfLMm0",
        "colab_type": "code",
        "colab": {}
      },
      "source": [
        "# Set y\n",
        "y = data['SALE PRICE']"
      ],
      "execution_count": 0,
      "outputs": []
    },
    {
      "cell_type": "code",
      "metadata": {
        "id": "6BZGPCO4e3fW",
        "colab_type": "code",
        "colab": {}
      },
      "source": [
        "# Train-test split\n",
        "X_train, X_test, y_train, y_test = train_test_split(X, y, test_size = 0.4, random_state = 42)"
      ],
      "execution_count": 0,
      "outputs": []
    },
    {
      "cell_type": "code",
      "metadata": {
        "id": "eLfNfXu4LZf2",
        "colab_type": "code",
        "colab": {}
      },
      "source": [
        "# Initialize model\n",
        "model = RandomForestRegressor()\n"
      ],
      "execution_count": 0,
      "outputs": []
    },
    {
      "cell_type": "code",
      "metadata": {
        "id": "JGwg3gd2LmFG",
        "colab_type": "code",
        "outputId": "4642bd07-7a6b-4000-f9d8-8cfba631bf88",
        "colab": {
          "base_uri": "https://localhost:8080/",
          "height": 190
        }
      },
      "source": [
        "# Fit Model\n",
        "model.fit(X_train, y_train)"
      ],
      "execution_count": 0,
      "outputs": [
        {
          "output_type": "stream",
          "text": [
            "/usr/local/lib/python3.6/dist-packages/sklearn/ensemble/forest.py:245: FutureWarning: The default value of n_estimators will change from 10 in version 0.20 to 100 in 0.22.\n",
            "  \"10 in version 0.20 to 100 in 0.22.\", FutureWarning)\n"
          ],
          "name": "stderr"
        },
        {
          "output_type": "execute_result",
          "data": {
            "text/plain": [
              "RandomForestRegressor(bootstrap=True, criterion='mse', max_depth=None,\n",
              "                      max_features='auto', max_leaf_nodes=None,\n",
              "                      min_impurity_decrease=0.0, min_impurity_split=None,\n",
              "                      min_samples_leaf=1, min_samples_split=2,\n",
              "                      min_weight_fraction_leaf=0.0, n_estimators=10,\n",
              "                      n_jobs=None, oob_score=False, random_state=None,\n",
              "                      verbose=0, warm_start=False)"
            ]
          },
          "metadata": {
            "tags": []
          },
          "execution_count": 307
        }
      ]
    },
    {
      "cell_type": "code",
      "metadata": {
        "id": "JfHcNJ-pNOVH",
        "colab_type": "code",
        "outputId": "79096adb-5862-4a47-b123-72912edb006a",
        "colab": {
          "base_uri": "https://localhost:8080/",
          "height": 34
        }
      },
      "source": [
        "# calculate the R-squared\n",
        "model.score(X_test, y_test)"
      ],
      "execution_count": 0,
      "outputs": [
        {
          "output_type": "execute_result",
          "data": {
            "text/plain": [
              "0.49130837056733134"
            ]
          },
          "metadata": {
            "tags": []
          },
          "execution_count": 308
        }
      ]
    },
    {
      "cell_type": "code",
      "metadata": {
        "id": "NVHWPPEbeo-Q",
        "colab_type": "code",
        "colab": {}
      },
      "source": [
        "y_predicted = model.predict(X_test)"
      ],
      "execution_count": 0,
      "outputs": []
    },
    {
      "cell_type": "code",
      "metadata": {
        "id": "sonn6CzJdl8P",
        "colab_type": "code",
        "outputId": "fd5c239e-b57c-43df-d35e-5d01d3145d42",
        "colab": {
          "base_uri": "https://localhost:8080/",
          "height": 34
        }
      },
      "source": [
        "# We input new advertising data into the model to predict future sales\n",
        "\n",
        "# Sample\n",
        "new_data = [[2, 2, 10000,1,1,1,1,1]]\n",
        "model.predict(new_data)"
      ],
      "execution_count": 0,
      "outputs": [
        {
          "output_type": "execute_result",
          "data": {
            "text/plain": [
              "array([2516663.2])"
            ]
          },
          "metadata": {
            "tags": []
          },
          "execution_count": 310
        }
      ]
    },
    {
      "cell_type": "markdown",
      "metadata": {
        "id": "K6RN__jGchfF",
        "colab_type": "text"
      },
      "source": [
        "### Model Error"
      ]
    },
    {
      "cell_type": "code",
      "metadata": {
        "id": "nZyoRoKTckZ1",
        "colab_type": "code",
        "outputId": "df63b9f7-0564-4e52-c1a4-586b6a635609",
        "colab": {
          "base_uri": "https://localhost:8080/",
          "height": 34
        }
      },
      "source": [
        "np.sqrt(mse(y_predicted, y_test)) # Root mean squared error"
      ],
      "execution_count": 0,
      "outputs": [
        {
          "output_type": "execute_result",
          "data": {
            "text/plain": [
              "358843.08410767687"
            ]
          },
          "metadata": {
            "tags": []
          },
          "execution_count": 311
        }
      ]
    },
    {
      "cell_type": "markdown",
      "metadata": {
        "id": "MXtyBLrXfi87",
        "colab_type": "text"
      },
      "source": [
        "This means that the root mean square error of any prediction done by the model against the actual value should be ~2 thousand dollars per campaign. Your predictions should deviate from the real values only by about 2 thousand dollars. This is high but we can further improve on this model by doing feature engineering but for now, this will do."
      ]
    }
  ]
}